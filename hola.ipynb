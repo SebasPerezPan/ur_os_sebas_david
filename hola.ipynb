{
 "cells": [
  {
   "cell_type": "code",
   "execution_count": 1,
   "id": "2e534438",
   "metadata": {},
   "outputs": [
    {
     "data": {
      "text/plain": [
       "(15,\n",
       " ['0', '0', '0', '0', '0', '0', '0', '0', '0', '0', '0', '0', '0', '0', '0'])"
      ]
     },
     "execution_count": 1,
     "metadata": {},
     "output_type": "execute_result"
    }
   ],
   "source": [
    "\n",
    "h=\"0 0 0 0 0 0 0 0 0 0 0 0 0 0 0\".split()\n",
    "len(h),h"
   ]
  },
  {
   "cell_type": "code",
   "execution_count": null,
   "id": "1c097885",
   "metadata": {},
   "outputs": [],
   "source": [
    "\"0 0 0 0 1 1 1 1 0 0 0 0 2 2 2 2 3 3 3 3 1 1 1 1 0 0 0 0 2 2 2 2 3 3 3 3 1 1 1 1 0 0 0 2 2 3 1 1 1 1 2 2 2 2 1 1 1 1 3 3 3 3 2 2 2 2 0 0 0 0 1 1 1 1 3 3 3 3 2 2 2 2 0 0 0 0 3 3 3 3 0 0 0 0 3 3 3 3 0 0 0 0 3 0 0 0 0 -1 0\""
   ]
  },
  {
   "cell_type": "code",
   "execution_count": null,
   "id": "fd9f3861",
   "metadata": {},
   "outputs": [],
   "source": [
    "\"\""
   ]
  }
 ],
 "metadata": {
  "kernelspec": {
   "display_name": "3.11.9",
   "language": "python",
   "name": "python3"
  },
  "language_info": {
   "codemirror_mode": {
    "name": "ipython",
    "version": 3
   },
   "file_extension": ".py",
   "mimetype": "text/x-python",
   "name": "python",
   "nbconvert_exporter": "python",
   "pygments_lexer": "ipython3",
   "version": "3.11.9"
  }
 },
 "nbformat": 4,
 "nbformat_minor": 5
}
